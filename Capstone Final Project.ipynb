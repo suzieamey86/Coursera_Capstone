{
    "cells": [
        {
            "cell_type": "markdown",
            "metadata": {},
            "source": "# Capstone Project - The Battle of the Neighborhoods\n## Applied Data Science Capstone\n### Location recommendation for new CrossFit box in Toronto C.A. by Suzie Amey"
        },
        {
            "cell_type": "markdown",
            "metadata": {},
            "source": "## Table of contents\n* [Introduction: Business Problem](#introduction)\n* [Data](#data)\n* [Methodology](#methodology)\n* [Results](#results)\n* [Discussion](#discussion)\n* [Conclusion](#conclusion)"
        },
        {
            "cell_type": "markdown",
            "metadata": {},
            "source": "\n\n## Introduction: Business Problem <a name=\"introduction\"></a>"
        },
        {
            "cell_type": "markdown",
            "metadata": {},
            "source": "### Problem <a name=\"problem\"></a>"
        },
        {
            "cell_type": "markdown",
            "metadata": {},
            "source": "A client is looking to open a new **CrossFit** training gym in the city of **Toronto, Ontario**, and has asked for us to come up with an ideal location based on statistics and data from the area.  A CrossFit training gym is known as a Box, and in order to call themselves a CrossFit Box, each gym must pay a yearly membership fee to the CrossFit brand which makes them an affiliate.  As such, **Crossfit memberships for individuals are known to be quite pricey**, hence, the ideal location would likely be in an area where the **household income** is on the higher end of the scale.  Also, it would be good to find a location which is **not too close to any other CrossFit Box**, as the residents of that area may already be members somewhere else.  *It would also be a good idea to consider whether the neighbourhood is one **where health and fitness is a priority**, so one where there are a number of sports and fitness shops and health food stores would be a good fit*."
        },
        {
            "cell_type": "markdown",
            "metadata": {},
            "source": "### Audience <a name=\"audience\"></a>"
        },
        {
            "cell_type": "markdown",
            "metadata": {},
            "source": "The audience in this case is the client who is looking to open a new Box.  Their obvious reason for interest is to open the Box in an area where they will bring in enough clients to make their gym a success."
        },
        {
            "cell_type": "markdown",
            "metadata": {},
            "source": "## Data <a name=\"data\"></a>"
        },
        {
            "cell_type": "markdown",
            "metadata": {},
            "source": "### Data Sources <a name=\"data sources\"></a>"
        },
        {
            "cell_type": "markdown",
            "metadata": {},
            "source": "As mentioned, the **average income** of a neighbourhood is going to be a factor in deciding where to open a new CrossFit Box; the following website has information on just such information:\n\n  * [Statistics Canada](https://www03.cmhc-schl.gc.ca/hmip-pimh/en/TableMapChart/TableMatchingCriteria?GeographyType=MetropolitanMajorArea&GeographyId=2270&CategoryLevel1=Population%2C%20Households%20and%20Housing%20Stock&CategoryLevel2=Household%20Income&ColumnField=HouseholdIncomeRange&RowField=Neighbourhood&SearchTags%5B0%5D.Key=Households&SearchTags%5B0%5D.Value=Number&SearchTags%5B1%5D.Key=Statistics&SearchTags%5B1%5D.Value=AverageAndMedian)\n  \nAnother column in this table which may be beneficial to consider is **Population Density**, and this information can be obtained from the following website:\n\n  * [Wikipedia Demographics of Toronto Neighbourhoods](https://en.wikipedia.org/wiki/Demographics_of_Toronto_neighbourhoods)\n\nOpening a Box in an area with low population density means there would be fewer potential clients to attract.\nI will also use Foursquare location data to find out which neighbourhoods already have a CrossFit Box, and also, I will look for areas which show an interest in personal health and fitness; for example, these areas could have health food and sports equipment stores and a number of other outlets for physical activities."
        },
        {
            "cell_type": "markdown",
            "metadata": {},
            "source": "### Data Cleaning and Analysis <a name=\"data cleaning and analysis\"></a>"
        },
        {
            "cell_type": "markdown",
            "metadata": {},
            "source": "I will read the income information into a Pandas Data frame in my Jupyter notebook and keep only the columns which are relevant to the given problem.  I will create a map using this data to give a visual representation of neighbourhoods which may be suitable.  \nFrom the preliminary neighbourhoods given by the initial data cleaning, I will then use Foursquare to search for venues of interest within these locations."
        },
        {
            "cell_type": "markdown",
            "metadata": {},
            "source": "## Methodology <a name=\"methodology\"></a>"
        },
        {
            "cell_type": "markdown",
            "metadata": {},
            "source": "Firstly, lets import any libraries which may be needed througout the notebook"
        },
        {
            "cell_type": "code",
            "execution_count": 1,
            "metadata": {},
            "outputs": [
                {
                    "name": "stdout",
                    "output_type": "stream",
                    "text": "Solving environment: done\n\n## Package Plan ##\n\n  environment location: /opt/conda/envs/Python36\n\n  added / updated specs: \n    - geopy\n\n\nThe following packages will be downloaded:\n\n    package                    |            build\n    ---------------------------|-----------------\n    geographiclib-1.50         |             py_0          34 KB  conda-forge\n    certifi-2019.11.28         |           py36_0         149 KB  conda-forge\n    ca-certificates-2019.11.28 |       hecc5488_0         145 KB  conda-forge\n    geopy-1.21.0               |             py_0          58 KB  conda-forge\n    openssl-1.1.1d             |       h516909a_0         2.1 MB  conda-forge\n    ------------------------------------------------------------\n                                           Total:         2.5 MB\n\nThe following NEW packages will be INSTALLED:\n\n    geographiclib:   1.50-py_0         conda-forge\n    geopy:           1.21.0-py_0       conda-forge\n\nThe following packages will be UPDATED:\n\n    ca-certificates: 2019.11.27-0                  --> 2019.11.28-hecc5488_0 conda-forge\n    certifi:         2019.11.28-py36_0             --> 2019.11.28-py36_0     conda-forge\n\nThe following packages will be DOWNGRADED:\n\n    openssl:         1.1.1d-h7b6447c_3             --> 1.1.1d-h516909a_0     conda-forge\n\n\nDownloading and Extracting Packages\ngeographiclib-1.50   | 34 KB     | ##################################### | 100% \ncertifi-2019.11.28   | 149 KB    | ##################################### | 100% \nca-certificates-2019 | 145 KB    | ##################################### | 100% \ngeopy-1.21.0         | 58 KB     | ##################################### | 100% \nopenssl-1.1.1d       | 2.1 MB    | ##################################### | 100% \nPreparing transaction: done\nVerifying transaction: done\nExecuting transaction: done\nSolving environment: done\n\n## Package Plan ##\n\n  environment location: /opt/conda/envs/Python36\n\n  added / updated specs: \n    - folium=0.5.0\n\n\nThe following packages will be downloaded:\n\n    package                    |            build\n    ---------------------------|-----------------\n    folium-0.5.0               |             py_0          45 KB  conda-forge\n    altair-4.0.1               |             py_0         575 KB  conda-forge\n    branca-0.4.0               |             py_0          26 KB  conda-forge\n    vincent-0.4.4              |             py_1          28 KB  conda-forge\n    ------------------------------------------------------------\n                                           Total:         673 KB\n\nThe following NEW packages will be INSTALLED:\n\n    altair:  4.0.1-py_0 conda-forge\n    branca:  0.4.0-py_0 conda-forge\n    folium:  0.5.0-py_0 conda-forge\n    vincent: 0.4.4-py_1 conda-forge\n\n\nDownloading and Extracting Packages\nfolium-0.5.0         | 45 KB     | ##################################### | 100% \naltair-4.0.1         | 575 KB    | ##################################### | 100% \nbranca-0.4.0         | 26 KB     | ##################################### | 100% \nvincent-0.4.4        | 28 KB     | ##################################### | 100% \nPreparing transaction: done\nVerifying transaction: done\nExecuting transaction: done\nLibraries imported.\n"
                }
            ],
            "source": "import numpy as np # library to handle data in a vectorized manner\n\nimport pandas as pd # library for data analsysis\npd.set_option('display.max_columns', None)\npd.set_option('display.max_rows', None)\n\nimport json # library to handle JSON files\n\n!conda install -c conda-forge geopy --yes\nfrom geopy.geocoders import Nominatim # convert an address into latitude and longitude values\n\nimport requests # library to handle requests\nfrom pandas.io.json import json_normalize # tranform JSON file into a pandas dataframe\n\n# Matplotlib and associated plotting modules\nimport matplotlib.cm as cm\nimport matplotlib.colors as colors\n\n# import k-means from clustering stage\nfrom sklearn.cluster import KMeans\n\n!conda install -c conda-forge folium=0.5.0 --yes\nimport folium # map rendering library\n\nprint('Libraries imported.')"
        },
        {
            "cell_type": "markdown",
            "metadata": {},
            "source": "Next, I'll read in the data from the **Statistics Canada** website and clean it up so I'm left with the information I need, which is *'**Median Household Income Before Taxes**'*.  I'll also rename the columns in the dataframe to make it easier to read."
        },
        {
            "cell_type": "code",
            "execution_count": 75,
            "metadata": {},
            "outputs": [
                {
                    "data": {
                        "text/html": "<div>\n<style scoped>\n    .dataframe tbody tr th:only-of-type {\n        vertical-align: middle;\n    }\n\n    .dataframe tbody tr th {\n        vertical-align: top;\n    }\n\n    .dataframe thead th {\n        text-align: right;\n    }\n</style>\n<table border=\"1\" class=\"dataframe\">\n  <thead>\n    <tr style=\"text-align: right;\">\n      <th></th>\n      <th>Unnamed: 0</th>\n      <th>Average Household Income Before Taxes</th>\n      <th>Median Household Income Before Taxes</th>\n      <th>Average Household Income After Taxes</th>\n      <th>Median Household Income After Taxes</th>\n    </tr>\n  </thead>\n  <tbody>\n    <tr>\n      <th>0</th>\n      <td>Agincourt/Malvern</td>\n      <td>80147</td>\n      <td>68108</td>\n      <td>71025</td>\n      <td>62304</td>\n    </tr>\n    <tr>\n      <th>1</th>\n      <td>Ajax/Pickering</td>\n      <td>115659</td>\n      <td>98363</td>\n      <td>94805</td>\n      <td>84664</td>\n    </tr>\n    <tr>\n      <th>2</th>\n      <td>Alderwood</td>\n      <td>102434</td>\n      <td>83249</td>\n      <td>84163</td>\n      <td>73039</td>\n    </tr>\n    <tr>\n      <th>3</th>\n      <td>Aurora</td>\n      <td>147604</td>\n      <td>106761</td>\n      <td>113594</td>\n      <td>90592</td>\n    </tr>\n    <tr>\n      <th>4</th>\n      <td>Banbury-Don Mills/York Mills</td>\n      <td>245866</td>\n      <td>90620</td>\n      <td>168106</td>\n      <td>76046</td>\n    </tr>\n  </tbody>\n</table>\n</div>",
                        "text/plain": "                     Unnamed: 0  Average Household Income Before Taxes  \\\n0             Agincourt/Malvern                                  80147   \n1                Ajax/Pickering                                 115659   \n2                     Alderwood                                 102434   \n3                        Aurora                                 147604   \n4  Banbury-Don Mills/York Mills                                 245866   \n\n   Median Household Income Before Taxes  Average Household Income After Taxes  \\\n0                                 68108                                 71025   \n1                                 98363                                 94805   \n2                                 83249                                 84163   \n3                                106761                                113594   \n4                                 90620                                168106   \n\n   Median Household Income After Taxes  \n0                                62304  \n1                                84664  \n2                                73039  \n3                                90592  \n4                                76046  "
                    },
                    "execution_count": 75,
                    "metadata": {},
                    "output_type": "execute_result"
                }
            ],
            "source": "url = \"https://www03.cmhc-schl.gc.ca/hmip-pimh/en/TableMapChart/TableMatchingCriteria?GeographyType=MetropolitanMajorArea&GeographyId=2270&CategoryLevel1=Population%2C%20Households%20and%20Housing%20Stock&CategoryLevel2=Household%20Income&ColumnField=HouseholdIncomeRange&RowField=Neighbourhood&SearchTags%5B0%5D.Key=Households&SearchTags%5B0%5D.Value=Number&SearchTags%5B1%5D.Key=Statistics&SearchTags%5B1%5D.Value=AverageAndMedian\"\ndf = pd.read_html(url)[0]\n\ndf.head()"
        },
        {
            "cell_type": "code",
            "execution_count": 76,
            "metadata": {},
            "outputs": [
                {
                    "data": {
                        "text/html": "<div>\n<style scoped>\n    .dataframe tbody tr th:only-of-type {\n        vertical-align: middle;\n    }\n\n    .dataframe tbody tr th {\n        vertical-align: top;\n    }\n\n    .dataframe thead th {\n        text-align: right;\n    }\n</style>\n<table border=\"1\" class=\"dataframe\">\n  <thead>\n    <tr style=\"text-align: right;\">\n      <th></th>\n      <th>Unnamed: 0</th>\n      <th>Median Household Income Before Taxes</th>\n    </tr>\n  </thead>\n  <tbody>\n    <tr>\n      <th>0</th>\n      <td>Agincourt/Malvern</td>\n      <td>68108</td>\n    </tr>\n    <tr>\n      <th>1</th>\n      <td>Ajax/Pickering</td>\n      <td>98363</td>\n    </tr>\n    <tr>\n      <th>2</th>\n      <td>Alderwood</td>\n      <td>83249</td>\n    </tr>\n    <tr>\n      <th>3</th>\n      <td>Aurora</td>\n      <td>106761</td>\n    </tr>\n    <tr>\n      <th>4</th>\n      <td>Banbury-Don Mills/York Mills</td>\n      <td>90620</td>\n    </tr>\n  </tbody>\n</table>\n</div>",
                        "text/plain": "                     Unnamed: 0  Median Household Income Before Taxes\n0             Agincourt/Malvern                                 68108\n1                Ajax/Pickering                                 98363\n2                     Alderwood                                 83249\n3                        Aurora                                106761\n4  Banbury-Don Mills/York Mills                                 90620"
                    },
                    "execution_count": 76,
                    "metadata": {},
                    "output_type": "execute_result"
                }
            ],
            "source": "df.drop(['Average Household Income Before Taxes', 'Average Household Income After Taxes', 'Median Household Income After Taxes'], axis=1, inplace = True)\ndf.head(5)"
        },
        {
            "cell_type": "code",
            "execution_count": 77,
            "metadata": {},
            "outputs": [
                {
                    "data": {
                        "text/html": "<div>\n<style scoped>\n    .dataframe tbody tr th:only-of-type {\n        vertical-align: middle;\n    }\n\n    .dataframe tbody tr th {\n        vertical-align: top;\n    }\n\n    .dataframe thead th {\n        text-align: right;\n    }\n</style>\n<table border=\"1\" class=\"dataframe\">\n  <thead>\n    <tr style=\"text-align: right;\">\n      <th></th>\n      <th>Neighbourhood</th>\n      <th>Income</th>\n    </tr>\n  </thead>\n  <tbody>\n    <tr>\n      <th>0</th>\n      <td>Agincourt/Malvern</td>\n      <td>68108</td>\n    </tr>\n    <tr>\n      <th>1</th>\n      <td>Ajax/Pickering</td>\n      <td>98363</td>\n    </tr>\n    <tr>\n      <th>2</th>\n      <td>Alderwood</td>\n      <td>83249</td>\n    </tr>\n    <tr>\n      <th>3</th>\n      <td>Aurora</td>\n      <td>106761</td>\n    </tr>\n    <tr>\n      <th>4</th>\n      <td>Banbury-Don Mills/York Mills</td>\n      <td>90620</td>\n    </tr>\n  </tbody>\n</table>\n</div>",
                        "text/plain": "                  Neighbourhood  Income\n0             Agincourt/Malvern   68108\n1                Ajax/Pickering   98363\n2                     Alderwood   83249\n3                        Aurora  106761\n4  Banbury-Don Mills/York Mills   90620"
                    },
                    "execution_count": 77,
                    "metadata": {},
                    "output_type": "execute_result"
                }
            ],
            "source": "df.rename(columns = {\"Unnamed: 0\" : \"Neighbourhood\", \"Median Household Income Before Taxes\" : \"Income\"}, inplace = True) \ndf.head(5)"
        },
        {
            "cell_type": "markdown",
            "metadata": {},
            "source": "The next step was to read in a list of postal codes for each neighbourhood in Canada.  This will be used to get the **coordinates** of each neighbourhood when creating a map.  I also did a bit of tidying up of this dataframe to get rid of any values which were **'Not assigned'**."
        },
        {
            "cell_type": "code",
            "execution_count": 80,
            "metadata": {},
            "outputs": [
                {
                    "data": {
                        "text/html": "<div>\n<style scoped>\n    .dataframe tbody tr th:only-of-type {\n        vertical-align: middle;\n    }\n\n    .dataframe tbody tr th {\n        vertical-align: top;\n    }\n\n    .dataframe thead th {\n        text-align: right;\n    }\n</style>\n<table border=\"1\" class=\"dataframe\">\n  <thead>\n    <tr style=\"text-align: right;\">\n      <th></th>\n      <th>Postcode</th>\n      <th>Borough</th>\n      <th>Neighbourhood</th>\n    </tr>\n  </thead>\n  <tbody>\n    <tr>\n      <th>0</th>\n      <td>M1A</td>\n      <td>Not assigned</td>\n      <td>Not assigned</td>\n    </tr>\n    <tr>\n      <th>1</th>\n      <td>M2A</td>\n      <td>Not assigned</td>\n      <td>Not assigned</td>\n    </tr>\n    <tr>\n      <th>2</th>\n      <td>M3A</td>\n      <td>North York</td>\n      <td>Parkwoods</td>\n    </tr>\n    <tr>\n      <th>3</th>\n      <td>M4A</td>\n      <td>North York</td>\n      <td>Victoria Village</td>\n    </tr>\n    <tr>\n      <th>4</th>\n      <td>M5A</td>\n      <td>Downtown Toronto</td>\n      <td>Harbourfront</td>\n    </tr>\n  </tbody>\n</table>\n</div>",
                        "text/plain": "  Postcode           Borough     Neighbourhood\n0      M1A      Not assigned      Not assigned\n1      M2A      Not assigned      Not assigned\n2      M3A        North York         Parkwoods\n3      M4A        North York  Victoria Village\n4      M5A  Downtown Toronto      Harbourfront"
                    },
                    "execution_count": 80,
                    "metadata": {},
                    "output_type": "execute_result"
                }
            ],
            "source": "url1 = \"https://en.wikipedia.org/wiki/List_of_postal_codes_of_Canada:_M\"\ndf1 = pd.read_html(url1)[0]\n\ndf1.head()"
        },
        {
            "cell_type": "code",
            "execution_count": 81,
            "metadata": {},
            "outputs": [
                {
                    "data": {
                        "text/html": "<div>\n<style scoped>\n    .dataframe tbody tr th:only-of-type {\n        vertical-align: middle;\n    }\n\n    .dataframe tbody tr th {\n        vertical-align: top;\n    }\n\n    .dataframe thead th {\n        text-align: right;\n    }\n</style>\n<table border=\"1\" class=\"dataframe\">\n  <thead>\n    <tr style=\"text-align: right;\">\n      <th></th>\n      <th>Postcode</th>\n      <th>Borough</th>\n      <th>Neighbourhood</th>\n    </tr>\n  </thead>\n  <tbody>\n    <tr>\n      <th>2</th>\n      <td>M3A</td>\n      <td>North York</td>\n      <td>Parkwoods</td>\n    </tr>\n    <tr>\n      <th>3</th>\n      <td>M4A</td>\n      <td>North York</td>\n      <td>Victoria Village</td>\n    </tr>\n    <tr>\n      <th>4</th>\n      <td>M5A</td>\n      <td>Downtown Toronto</td>\n      <td>Harbourfront</td>\n    </tr>\n    <tr>\n      <th>5</th>\n      <td>M6A</td>\n      <td>North York</td>\n      <td>Lawrence Heights</td>\n    </tr>\n    <tr>\n      <th>6</th>\n      <td>M6A</td>\n      <td>North York</td>\n      <td>Lawrence Manor</td>\n    </tr>\n    <tr>\n      <th>7</th>\n      <td>M7A</td>\n      <td>Downtown Toronto</td>\n      <td>Queen's Park</td>\n    </tr>\n    <tr>\n      <th>9</th>\n      <td>M9A</td>\n      <td>Queen's Park</td>\n      <td>Not assigned</td>\n    </tr>\n    <tr>\n      <th>10</th>\n      <td>M1B</td>\n      <td>Scarborough</td>\n      <td>Rouge</td>\n    </tr>\n    <tr>\n      <th>11</th>\n      <td>M1B</td>\n      <td>Scarborough</td>\n      <td>Malvern</td>\n    </tr>\n    <tr>\n      <th>13</th>\n      <td>M3B</td>\n      <td>North York</td>\n      <td>Don Mills North</td>\n    </tr>\n  </tbody>\n</table>\n</div>",
                        "text/plain": "   Postcode           Borough     Neighbourhood\n2       M3A        North York         Parkwoods\n3       M4A        North York  Victoria Village\n4       M5A  Downtown Toronto      Harbourfront\n5       M6A        North York  Lawrence Heights\n6       M6A        North York    Lawrence Manor\n7       M7A  Downtown Toronto      Queen's Park\n9       M9A      Queen's Park      Not assigned\n10      M1B       Scarborough             Rouge\n11      M1B       Scarborough           Malvern\n13      M3B        North York   Don Mills North"
                    },
                    "execution_count": 81,
                    "metadata": {},
                    "output_type": "execute_result"
                }
            ],
            "source": "df_seg = df1[df1.Borough != 'Not assigned']\ndf_seg.head(10)"
        },
        {
            "cell_type": "code",
            "execution_count": 82,
            "metadata": {},
            "outputs": [
                {
                    "data": {
                        "text/html": "<div>\n<style scoped>\n    .dataframe tbody tr th:only-of-type {\n        vertical-align: middle;\n    }\n\n    .dataframe tbody tr th {\n        vertical-align: top;\n    }\n\n    .dataframe thead th {\n        text-align: right;\n    }\n</style>\n<table border=\"1\" class=\"dataframe\">\n  <thead>\n    <tr style=\"text-align: right;\">\n      <th></th>\n      <th>Postcode</th>\n      <th>Borough</th>\n      <th>Neighbourhood</th>\n    </tr>\n  </thead>\n  <tbody>\n    <tr>\n      <th>2</th>\n      <td>M3A</td>\n      <td>North York</td>\n      <td>Parkwoods</td>\n    </tr>\n    <tr>\n      <th>3</th>\n      <td>M4A</td>\n      <td>North York</td>\n      <td>Victoria Village</td>\n    </tr>\n    <tr>\n      <th>4</th>\n      <td>M5A</td>\n      <td>Downtown Toronto</td>\n      <td>Harbourfront</td>\n    </tr>\n    <tr>\n      <th>5</th>\n      <td>M6A</td>\n      <td>North York</td>\n      <td>Lawrence Heights</td>\n    </tr>\n    <tr>\n      <th>6</th>\n      <td>M6A</td>\n      <td>North York</td>\n      <td>Lawrence Manor</td>\n    </tr>\n  </tbody>\n</table>\n</div>",
                        "text/plain": "  Postcode           Borough     Neighbourhood\n2      M3A        North York         Parkwoods\n3      M4A        North York  Victoria Village\n4      M5A  Downtown Toronto      Harbourfront\n5      M6A        North York  Lawrence Heights\n6      M6A        North York    Lawrence Manor"
                    },
                    "execution_count": 82,
                    "metadata": {},
                    "output_type": "execute_result"
                }
            ],
            "source": "df_seg['Neighbourhood'].replace('Not assigned',df_seg['Borough'],inplace=True)\ndf_seg.head(5)"
        },
        {
            "cell_type": "code",
            "execution_count": 83,
            "metadata": {},
            "outputs": [
                {
                    "data": {
                        "text/html": "<div>\n<style scoped>\n    .dataframe tbody tr th:only-of-type {\n        vertical-align: middle;\n    }\n\n    .dataframe tbody tr th {\n        vertical-align: top;\n    }\n\n    .dataframe thead th {\n        text-align: right;\n    }\n</style>\n<table border=\"1\" class=\"dataframe\">\n  <thead>\n    <tr style=\"text-align: right;\">\n      <th></th>\n      <th>Postcode</th>\n      <th>Borough</th>\n      <th>Neighbourhood</th>\n    </tr>\n  </thead>\n  <tbody>\n    <tr>\n      <th>0</th>\n      <td>M1B</td>\n      <td>Scarborough</td>\n      <td>[Rouge, Malvern]</td>\n    </tr>\n    <tr>\n      <th>1</th>\n      <td>M1C</td>\n      <td>Scarborough</td>\n      <td>[Highland Creek, Rouge Hill, Port Union]</td>\n    </tr>\n    <tr>\n      <th>2</th>\n      <td>M1E</td>\n      <td>Scarborough</td>\n      <td>[Guildwood, Morningside, West Hill]</td>\n    </tr>\n    <tr>\n      <th>3</th>\n      <td>M1G</td>\n      <td>Scarborough</td>\n      <td>[Woburn]</td>\n    </tr>\n    <tr>\n      <th>4</th>\n      <td>M1H</td>\n      <td>Scarborough</td>\n      <td>[Cedarbrae]</td>\n    </tr>\n    <tr>\n      <th>5</th>\n      <td>M1J</td>\n      <td>Scarborough</td>\n      <td>[Scarborough Village]</td>\n    </tr>\n    <tr>\n      <th>6</th>\n      <td>M1K</td>\n      <td>Scarborough</td>\n      <td>[East Birchmount Park, Ionview, Kennedy Park]</td>\n    </tr>\n    <tr>\n      <th>7</th>\n      <td>M1L</td>\n      <td>Scarborough</td>\n      <td>[Clairlea, Golden Mile, Oakridge]</td>\n    </tr>\n    <tr>\n      <th>8</th>\n      <td>M1M</td>\n      <td>Scarborough</td>\n      <td>[Cliffcrest, Cliffside, Scarborough Village West]</td>\n    </tr>\n    <tr>\n      <th>9</th>\n      <td>M1N</td>\n      <td>Scarborough</td>\n      <td>[Birch Cliff, Cliffside West]</td>\n    </tr>\n    <tr>\n      <th>10</th>\n      <td>M1P</td>\n      <td>Scarborough</td>\n      <td>[Dorset Park, Scarborough Town Centre, Wexford...</td>\n    </tr>\n    <tr>\n      <th>11</th>\n      <td>M1R</td>\n      <td>Scarborough</td>\n      <td>[Maryvale, Wexford]</td>\n    </tr>\n    <tr>\n      <th>12</th>\n      <td>M1S</td>\n      <td>Scarborough</td>\n      <td>[Agincourt]</td>\n    </tr>\n    <tr>\n      <th>13</th>\n      <td>M1T</td>\n      <td>Scarborough</td>\n      <td>[Clarks Corners, Sullivan, Tam O'Shanter]</td>\n    </tr>\n    <tr>\n      <th>14</th>\n      <td>M1V</td>\n      <td>Scarborough</td>\n      <td>[Agincourt North, L'Amoreaux East, Milliken, S...</td>\n    </tr>\n    <tr>\n      <th>15</th>\n      <td>M1W</td>\n      <td>Scarborough</td>\n      <td>[L'Amoreaux West]</td>\n    </tr>\n    <tr>\n      <th>16</th>\n      <td>M1X</td>\n      <td>Scarborough</td>\n      <td>[Upper Rouge]</td>\n    </tr>\n    <tr>\n      <th>17</th>\n      <td>M2H</td>\n      <td>North York</td>\n      <td>[Hillcrest Village]</td>\n    </tr>\n    <tr>\n      <th>18</th>\n      <td>M2J</td>\n      <td>North York</td>\n      <td>[Fairview, Henry Farm, Oriole]</td>\n    </tr>\n    <tr>\n      <th>19</th>\n      <td>M2K</td>\n      <td>North York</td>\n      <td>[Bayview Village]</td>\n    </tr>\n    <tr>\n      <th>20</th>\n      <td>M2L</td>\n      <td>North York</td>\n      <td>[Silver Hills, York Mills]</td>\n    </tr>\n    <tr>\n      <th>21</th>\n      <td>M2M</td>\n      <td>North York</td>\n      <td>[Newtonbrook, Willowdale]</td>\n    </tr>\n    <tr>\n      <th>22</th>\n      <td>M2N</td>\n      <td>North York</td>\n      <td>[Willowdale South]</td>\n    </tr>\n    <tr>\n      <th>23</th>\n      <td>M2P</td>\n      <td>North York</td>\n      <td>[York Mills West]</td>\n    </tr>\n    <tr>\n      <th>24</th>\n      <td>M2R</td>\n      <td>North York</td>\n      <td>[Willowdale West]</td>\n    </tr>\n    <tr>\n      <th>25</th>\n      <td>M3A</td>\n      <td>North York</td>\n      <td>[Parkwoods]</td>\n    </tr>\n    <tr>\n      <th>26</th>\n      <td>M3B</td>\n      <td>North York</td>\n      <td>[Don Mills North]</td>\n    </tr>\n    <tr>\n      <th>27</th>\n      <td>M3C</td>\n      <td>North York</td>\n      <td>[Flemingdon Park, Don Mills South]</td>\n    </tr>\n    <tr>\n      <th>28</th>\n      <td>M3H</td>\n      <td>North York</td>\n      <td>[Bathurst Manor, Downsview North, Wilson Heights]</td>\n    </tr>\n    <tr>\n      <th>29</th>\n      <td>M3J</td>\n      <td>North York</td>\n      <td>[Northwood Park, York University]</td>\n    </tr>\n    <tr>\n      <th>30</th>\n      <td>M3K</td>\n      <td>North York</td>\n      <td>[CFB Toronto, Downsview East]</td>\n    </tr>\n    <tr>\n      <th>31</th>\n      <td>M3L</td>\n      <td>North York</td>\n      <td>[Downsview West]</td>\n    </tr>\n    <tr>\n      <th>32</th>\n      <td>M3M</td>\n      <td>North York</td>\n      <td>[Downsview Central]</td>\n    </tr>\n    <tr>\n      <th>33</th>\n      <td>M3N</td>\n      <td>North York</td>\n      <td>[Downsview Northwest]</td>\n    </tr>\n    <tr>\n      <th>34</th>\n      <td>M4A</td>\n      <td>North York</td>\n      <td>[Victoria Village]</td>\n    </tr>\n    <tr>\n      <th>35</th>\n      <td>M4B</td>\n      <td>East York</td>\n      <td>[Woodbine Gardens, Parkview Hill]</td>\n    </tr>\n    <tr>\n      <th>36</th>\n      <td>M4C</td>\n      <td>East York</td>\n      <td>[Woodbine Heights]</td>\n    </tr>\n    <tr>\n      <th>37</th>\n      <td>M4E</td>\n      <td>East Toronto</td>\n      <td>[The Beaches]</td>\n    </tr>\n    <tr>\n      <th>38</th>\n      <td>M4G</td>\n      <td>East York</td>\n      <td>[Leaside]</td>\n    </tr>\n    <tr>\n      <th>39</th>\n      <td>M4H</td>\n      <td>East York</td>\n      <td>[Thorncliffe Park]</td>\n    </tr>\n    <tr>\n      <th>40</th>\n      <td>M4J</td>\n      <td>East York</td>\n      <td>[East Toronto]</td>\n    </tr>\n    <tr>\n      <th>41</th>\n      <td>M4K</td>\n      <td>East Toronto</td>\n      <td>[The Danforth West, Riverdale]</td>\n    </tr>\n    <tr>\n      <th>42</th>\n      <td>M4L</td>\n      <td>East Toronto</td>\n      <td>[The Beaches West, India Bazaar]</td>\n    </tr>\n    <tr>\n      <th>43</th>\n      <td>M4M</td>\n      <td>East Toronto</td>\n      <td>[Studio District]</td>\n    </tr>\n    <tr>\n      <th>44</th>\n      <td>M4N</td>\n      <td>Central Toronto</td>\n      <td>[Lawrence Park]</td>\n    </tr>\n    <tr>\n      <th>45</th>\n      <td>M4P</td>\n      <td>Central Toronto</td>\n      <td>[Davisville North]</td>\n    </tr>\n    <tr>\n      <th>46</th>\n      <td>M4R</td>\n      <td>Central Toronto</td>\n      <td>[North Toronto West]</td>\n    </tr>\n    <tr>\n      <th>47</th>\n      <td>M4S</td>\n      <td>Central Toronto</td>\n      <td>[Davisville]</td>\n    </tr>\n    <tr>\n      <th>48</th>\n      <td>M4T</td>\n      <td>Central Toronto</td>\n      <td>[Moore Park, Summerhill East]</td>\n    </tr>\n    <tr>\n      <th>49</th>\n      <td>M4V</td>\n      <td>Central Toronto</td>\n      <td>[Deer Park, Forest Hill SE, Rathnelly, South H...</td>\n    </tr>\n    <tr>\n      <th>50</th>\n      <td>M4W</td>\n      <td>Downtown Toronto</td>\n      <td>[Rosedale]</td>\n    </tr>\n    <tr>\n      <th>51</th>\n      <td>M4X</td>\n      <td>Downtown Toronto</td>\n      <td>[Cabbagetown, St. James Town]</td>\n    </tr>\n    <tr>\n      <th>52</th>\n      <td>M4Y</td>\n      <td>Downtown Toronto</td>\n      <td>[Church and Wellesley]</td>\n    </tr>\n    <tr>\n      <th>53</th>\n      <td>M5A</td>\n      <td>Downtown Toronto</td>\n      <td>[Harbourfront]</td>\n    </tr>\n    <tr>\n      <th>54</th>\n      <td>M5B</td>\n      <td>Downtown Toronto</td>\n      <td>[Ryerson, Garden District]</td>\n    </tr>\n    <tr>\n      <th>55</th>\n      <td>M5C</td>\n      <td>Downtown Toronto</td>\n      <td>[St. James Town]</td>\n    </tr>\n    <tr>\n      <th>56</th>\n      <td>M5E</td>\n      <td>Downtown Toronto</td>\n      <td>[Berczy Park]</td>\n    </tr>\n    <tr>\n      <th>57</th>\n      <td>M5G</td>\n      <td>Downtown Toronto</td>\n      <td>[Central Bay Street]</td>\n    </tr>\n    <tr>\n      <th>58</th>\n      <td>M5H</td>\n      <td>Downtown Toronto</td>\n      <td>[Adelaide, King, Richmond]</td>\n    </tr>\n    <tr>\n      <th>59</th>\n      <td>M5J</td>\n      <td>Downtown Toronto</td>\n      <td>[Harbourfront East, Toronto Islands, Union Sta...</td>\n    </tr>\n    <tr>\n      <th>60</th>\n      <td>M5K</td>\n      <td>Downtown Toronto</td>\n      <td>[Design Exchange, Toronto Dominion Centre]</td>\n    </tr>\n    <tr>\n      <th>61</th>\n      <td>M5L</td>\n      <td>Downtown Toronto</td>\n      <td>[Commerce Court, Victoria Hotel]</td>\n    </tr>\n    <tr>\n      <th>62</th>\n      <td>M5M</td>\n      <td>North York</td>\n      <td>[Bedford Park, Lawrence Manor East]</td>\n    </tr>\n    <tr>\n      <th>63</th>\n      <td>M5N</td>\n      <td>Central Toronto</td>\n      <td>[Roselawn]</td>\n    </tr>\n    <tr>\n      <th>64</th>\n      <td>M5P</td>\n      <td>Central Toronto</td>\n      <td>[Forest Hill North, Forest Hill West]</td>\n    </tr>\n    <tr>\n      <th>65</th>\n      <td>M5R</td>\n      <td>Central Toronto</td>\n      <td>[The Annex, North Midtown, Yorkville]</td>\n    </tr>\n    <tr>\n      <th>66</th>\n      <td>M5S</td>\n      <td>Downtown Toronto</td>\n      <td>[Harbord, University of Toronto]</td>\n    </tr>\n    <tr>\n      <th>67</th>\n      <td>M5T</td>\n      <td>Downtown Toronto</td>\n      <td>[Chinatown, Grange Park, Kensington Market]</td>\n    </tr>\n    <tr>\n      <th>68</th>\n      <td>M5V</td>\n      <td>Downtown Toronto</td>\n      <td>[CN Tower, Bathurst Quay, Island airport, Harb...</td>\n    </tr>\n    <tr>\n      <th>69</th>\n      <td>M5W</td>\n      <td>Downtown Toronto</td>\n      <td>[Stn A PO Boxes 25 The Esplanade]</td>\n    </tr>\n    <tr>\n      <th>70</th>\n      <td>M5X</td>\n      <td>Downtown Toronto</td>\n      <td>[First Canadian Place, Underground city]</td>\n    </tr>\n    <tr>\n      <th>71</th>\n      <td>M6A</td>\n      <td>North York</td>\n      <td>[Lawrence Heights, Lawrence Manor]</td>\n    </tr>\n    <tr>\n      <th>72</th>\n      <td>M6B</td>\n      <td>North York</td>\n      <td>[Glencairn]</td>\n    </tr>\n    <tr>\n      <th>73</th>\n      <td>M6C</td>\n      <td>York</td>\n      <td>[Humewood-Cedarvale]</td>\n    </tr>\n    <tr>\n      <th>74</th>\n      <td>M6E</td>\n      <td>York</td>\n      <td>[Caledonia-Fairbanks]</td>\n    </tr>\n    <tr>\n      <th>75</th>\n      <td>M6G</td>\n      <td>Downtown Toronto</td>\n      <td>[Christie]</td>\n    </tr>\n    <tr>\n      <th>76</th>\n      <td>M6H</td>\n      <td>West Toronto</td>\n      <td>[Dovercourt Village, Dufferin]</td>\n    </tr>\n    <tr>\n      <th>77</th>\n      <td>M6J</td>\n      <td>West Toronto</td>\n      <td>[Little Portugal, Trinity]</td>\n    </tr>\n    <tr>\n      <th>78</th>\n      <td>M6K</td>\n      <td>West Toronto</td>\n      <td>[Brockton, Exhibition Place, Parkdale Village]</td>\n    </tr>\n    <tr>\n      <th>79</th>\n      <td>M6L</td>\n      <td>North York</td>\n      <td>[Downsview, North Park, Upwood Park]</td>\n    </tr>\n    <tr>\n      <th>80</th>\n      <td>M6M</td>\n      <td>York</td>\n      <td>[Del Ray, Keelesdale, Mount Dennis, Silverthorn]</td>\n    </tr>\n    <tr>\n      <th>81</th>\n      <td>M6N</td>\n      <td>York</td>\n      <td>[The Junction North, Runnymede]</td>\n    </tr>\n    <tr>\n      <th>82</th>\n      <td>M6P</td>\n      <td>West Toronto</td>\n      <td>[High Park, The Junction South]</td>\n    </tr>\n    <tr>\n      <th>83</th>\n      <td>M6R</td>\n      <td>West Toronto</td>\n      <td>[Parkdale, Roncesvalles]</td>\n    </tr>\n    <tr>\n      <th>84</th>\n      <td>M6S</td>\n      <td>West Toronto</td>\n      <td>[Runnymede, Swansea]</td>\n    </tr>\n    <tr>\n      <th>85</th>\n      <td>M7A</td>\n      <td>Downtown Toronto</td>\n      <td>[Queen's Park]</td>\n    </tr>\n    <tr>\n      <th>86</th>\n      <td>M7R</td>\n      <td>Mississauga</td>\n      <td>[Canada Post Gateway Processing Centre]</td>\n    </tr>\n    <tr>\n      <th>87</th>\n      <td>M7Y</td>\n      <td>East Toronto</td>\n      <td>[Business Reply Mail Processing Centre 969 Eas...</td>\n    </tr>\n    <tr>\n      <th>88</th>\n      <td>M8V</td>\n      <td>Etobicoke</td>\n      <td>[Humber Bay Shores, Mimico South, New Toronto]</td>\n    </tr>\n    <tr>\n      <th>89</th>\n      <td>M8W</td>\n      <td>Etobicoke</td>\n      <td>[Alderwood, Long Branch]</td>\n    </tr>\n    <tr>\n      <th>90</th>\n      <td>M8X</td>\n      <td>Etobicoke</td>\n      <td>[The Kingsway, Montgomery Road, Old Mill North]</td>\n    </tr>\n    <tr>\n      <th>91</th>\n      <td>M8Y</td>\n      <td>Etobicoke</td>\n      <td>[Humber Bay, King's Mill Park, Kingsway Park S...</td>\n    </tr>\n    <tr>\n      <th>92</th>\n      <td>M8Z</td>\n      <td>Etobicoke</td>\n      <td>[Kingsway Park South West, Mimico NW, The Quee...</td>\n    </tr>\n    <tr>\n      <th>93</th>\n      <td>M9A</td>\n      <td>Queen's Park</td>\n      <td>[Queen's Park]</td>\n    </tr>\n    <tr>\n      <th>94</th>\n      <td>M9B</td>\n      <td>Etobicoke</td>\n      <td>[Cloverdale, Islington, Martin Grove, Princess...</td>\n    </tr>\n    <tr>\n      <th>95</th>\n      <td>M9C</td>\n      <td>Etobicoke</td>\n      <td>[Bloordale Gardens, Eringate, Markland Wood, O...</td>\n    </tr>\n    <tr>\n      <th>96</th>\n      <td>M9L</td>\n      <td>North York</td>\n      <td>[Humber Summit]</td>\n    </tr>\n    <tr>\n      <th>97</th>\n      <td>M9M</td>\n      <td>North York</td>\n      <td>[Emery, Humberlea]</td>\n    </tr>\n    <tr>\n      <th>98</th>\n      <td>M9N</td>\n      <td>York</td>\n      <td>[Weston]</td>\n    </tr>\n    <tr>\n      <th>99</th>\n      <td>M9P</td>\n      <td>Etobicoke</td>\n      <td>[Westmount]</td>\n    </tr>\n    <tr>\n      <th>100</th>\n      <td>M9R</td>\n      <td>Etobicoke</td>\n      <td>[Kingsview Village, Martin Grove Gardens, Rich...</td>\n    </tr>\n    <tr>\n      <th>101</th>\n      <td>M9V</td>\n      <td>Etobicoke</td>\n      <td>[Albion Gardens, Beaumond Heights, Humbergate,...</td>\n    </tr>\n    <tr>\n      <th>102</th>\n      <td>M9W</td>\n      <td>Etobicoke</td>\n      <td>[Northwest]</td>\n    </tr>\n  </tbody>\n</table>\n</div>",
                        "text/plain": "    Postcode           Borough  \\\n0        M1B       Scarborough   \n1        M1C       Scarborough   \n2        M1E       Scarborough   \n3        M1G       Scarborough   \n4        M1H       Scarborough   \n5        M1J       Scarborough   \n6        M1K       Scarborough   \n7        M1L       Scarborough   \n8        M1M       Scarborough   \n9        M1N       Scarborough   \n10       M1P       Scarborough   \n11       M1R       Scarborough   \n12       M1S       Scarborough   \n13       M1T       Scarborough   \n14       M1V       Scarborough   \n15       M1W       Scarborough   \n16       M1X       Scarborough   \n17       M2H        North York   \n18       M2J        North York   \n19       M2K        North York   \n20       M2L        North York   \n21       M2M        North York   \n22       M2N        North York   \n23       M2P        North York   \n24       M2R        North York   \n25       M3A        North York   \n26       M3B        North York   \n27       M3C        North York   \n28       M3H        North York   \n29       M3J        North York   \n30       M3K        North York   \n31       M3L        North York   \n32       M3M        North York   \n33       M3N        North York   \n34       M4A        North York   \n35       M4B         East York   \n36       M4C         East York   \n37       M4E      East Toronto   \n38       M4G         East York   \n39       M4H         East York   \n40       M4J         East York   \n41       M4K      East Toronto   \n42       M4L      East Toronto   \n43       M4M      East Toronto   \n44       M4N   Central Toronto   \n45       M4P   Central Toronto   \n46       M4R   Central Toronto   \n47       M4S   Central Toronto   \n48       M4T   Central Toronto   \n49       M4V   Central Toronto   \n50       M4W  Downtown Toronto   \n51       M4X  Downtown Toronto   \n52       M4Y  Downtown Toronto   \n53       M5A  Downtown Toronto   \n54       M5B  Downtown Toronto   \n55       M5C  Downtown Toronto   \n56       M5E  Downtown Toronto   \n57       M5G  Downtown Toronto   \n58       M5H  Downtown Toronto   \n59       M5J  Downtown Toronto   \n60       M5K  Downtown Toronto   \n61       M5L  Downtown Toronto   \n62       M5M        North York   \n63       M5N   Central Toronto   \n64       M5P   Central Toronto   \n65       M5R   Central Toronto   \n66       M5S  Downtown Toronto   \n67       M5T  Downtown Toronto   \n68       M5V  Downtown Toronto   \n69       M5W  Downtown Toronto   \n70       M5X  Downtown Toronto   \n71       M6A        North York   \n72       M6B        North York   \n73       M6C              York   \n74       M6E              York   \n75       M6G  Downtown Toronto   \n76       M6H      West Toronto   \n77       M6J      West Toronto   \n78       M6K      West Toronto   \n79       M6L        North York   \n80       M6M              York   \n81       M6N              York   \n82       M6P      West Toronto   \n83       M6R      West Toronto   \n84       M6S      West Toronto   \n85       M7A  Downtown Toronto   \n86       M7R       Mississauga   \n87       M7Y      East Toronto   \n88       M8V         Etobicoke   \n89       M8W         Etobicoke   \n90       M8X         Etobicoke   \n91       M8Y         Etobicoke   \n92       M8Z         Etobicoke   \n93       M9A      Queen's Park   \n94       M9B         Etobicoke   \n95       M9C         Etobicoke   \n96       M9L        North York   \n97       M9M        North York   \n98       M9N              York   \n99       M9P         Etobicoke   \n100      M9R         Etobicoke   \n101      M9V         Etobicoke   \n102      M9W         Etobicoke   \n\n                                         Neighbourhood  \n0                                     [Rouge, Malvern]  \n1             [Highland Creek, Rouge Hill, Port Union]  \n2                  [Guildwood, Morningside, West Hill]  \n3                                             [Woburn]  \n4                                          [Cedarbrae]  \n5                                [Scarborough Village]  \n6        [East Birchmount Park, Ionview, Kennedy Park]  \n7                    [Clairlea, Golden Mile, Oakridge]  \n8    [Cliffcrest, Cliffside, Scarborough Village West]  \n9                        [Birch Cliff, Cliffside West]  \n10   [Dorset Park, Scarborough Town Centre, Wexford...  \n11                                 [Maryvale, Wexford]  \n12                                         [Agincourt]  \n13           [Clarks Corners, Sullivan, Tam O'Shanter]  \n14   [Agincourt North, L'Amoreaux East, Milliken, S...  \n15                                   [L'Amoreaux West]  \n16                                       [Upper Rouge]  \n17                                 [Hillcrest Village]  \n18                      [Fairview, Henry Farm, Oriole]  \n19                                   [Bayview Village]  \n20                          [Silver Hills, York Mills]  \n21                           [Newtonbrook, Willowdale]  \n22                                  [Willowdale South]  \n23                                   [York Mills West]  \n24                                   [Willowdale West]  \n25                                         [Parkwoods]  \n26                                   [Don Mills North]  \n27                  [Flemingdon Park, Don Mills South]  \n28   [Bathurst Manor, Downsview North, Wilson Heights]  \n29                   [Northwood Park, York University]  \n30                       [CFB Toronto, Downsview East]  \n31                                    [Downsview West]  \n32                                 [Downsview Central]  \n33                               [Downsview Northwest]  \n34                                  [Victoria Village]  \n35                   [Woodbine Gardens, Parkview Hill]  \n36                                  [Woodbine Heights]  \n37                                       [The Beaches]  \n38                                           [Leaside]  \n39                                  [Thorncliffe Park]  \n40                                      [East Toronto]  \n41                      [The Danforth West, Riverdale]  \n42                    [The Beaches West, India Bazaar]  \n43                                   [Studio District]  \n44                                     [Lawrence Park]  \n45                                  [Davisville North]  \n46                                [North Toronto West]  \n47                                        [Davisville]  \n48                       [Moore Park, Summerhill East]  \n49   [Deer Park, Forest Hill SE, Rathnelly, South H...  \n50                                          [Rosedale]  \n51                       [Cabbagetown, St. James Town]  \n52                              [Church and Wellesley]  \n53                                      [Harbourfront]  \n54                          [Ryerson, Garden District]  \n55                                    [St. James Town]  \n56                                       [Berczy Park]  \n57                                [Central Bay Street]  \n58                          [Adelaide, King, Richmond]  \n59   [Harbourfront East, Toronto Islands, Union Sta...  \n60          [Design Exchange, Toronto Dominion Centre]  \n61                    [Commerce Court, Victoria Hotel]  \n62                 [Bedford Park, Lawrence Manor East]  \n63                                          [Roselawn]  \n64               [Forest Hill North, Forest Hill West]  \n65               [The Annex, North Midtown, Yorkville]  \n66                    [Harbord, University of Toronto]  \n67         [Chinatown, Grange Park, Kensington Market]  \n68   [CN Tower, Bathurst Quay, Island airport, Harb...  \n69                   [Stn A PO Boxes 25 The Esplanade]  \n70            [First Canadian Place, Underground city]  \n71                  [Lawrence Heights, Lawrence Manor]  \n72                                         [Glencairn]  \n73                                [Humewood-Cedarvale]  \n74                               [Caledonia-Fairbanks]  \n75                                          [Christie]  \n76                      [Dovercourt Village, Dufferin]  \n77                          [Little Portugal, Trinity]  \n78      [Brockton, Exhibition Place, Parkdale Village]  \n79                [Downsview, North Park, Upwood Park]  \n80    [Del Ray, Keelesdale, Mount Dennis, Silverthorn]  \n81                     [The Junction North, Runnymede]  \n82                     [High Park, The Junction South]  \n83                            [Parkdale, Roncesvalles]  \n84                                [Runnymede, Swansea]  \n85                                      [Queen's Park]  \n86             [Canada Post Gateway Processing Centre]  \n87   [Business Reply Mail Processing Centre 969 Eas...  \n88      [Humber Bay Shores, Mimico South, New Toronto]  \n89                            [Alderwood, Long Branch]  \n90     [The Kingsway, Montgomery Road, Old Mill North]  \n91   [Humber Bay, King's Mill Park, Kingsway Park S...  \n92   [Kingsway Park South West, Mimico NW, The Quee...  \n93                                      [Queen's Park]  \n94   [Cloverdale, Islington, Martin Grove, Princess...  \n95   [Bloordale Gardens, Eringate, Markland Wood, O...  \n96                                     [Humber Summit]  \n97                                  [Emery, Humberlea]  \n98                                            [Weston]  \n99                                         [Westmount]  \n100  [Kingsview Village, Martin Grove Gardens, Rich...  \n101  [Albion Gardens, Beaumond Heights, Humbergate,...  \n102                                        [Northwest]  "
                    },
                    "execution_count": 83,
                    "metadata": {},
                    "output_type": "execute_result"
                }
            ],
            "source": "df_seg['Neighbourhood'].groupby([df_seg.Postcode,df_seg.Borough]).apply(list).reset_index()"
        },
        {
            "cell_type": "code",
            "execution_count": 84,
            "metadata": {},
            "outputs": [],
            "source": "df2 = df_seg.rename(columns = {\"Postcode\": \"Postal Code\"}) "
        },
        {
            "cell_type": "markdown",
            "metadata": {},
            "source": "I then read in a table of data with **Latitude and Longitude** values for each **Postal Code**, and then joined all the data together so that I had, for each Neighbourhood, a Latitude and Longitude value, as well as the average income."
        },
        {
            "cell_type": "code",
            "execution_count": 85,
            "metadata": {},
            "outputs": [
                {
                    "data": {
                        "text/html": "<div>\n<style scoped>\n    .dataframe tbody tr th:only-of-type {\n        vertical-align: middle;\n    }\n\n    .dataframe tbody tr th {\n        vertical-align: top;\n    }\n\n    .dataframe thead th {\n        text-align: right;\n    }\n</style>\n<table border=\"1\" class=\"dataframe\">\n  <thead>\n    <tr style=\"text-align: right;\">\n      <th></th>\n      <th>Postal Code</th>\n      <th>Latitude</th>\n      <th>Longitude</th>\n    </tr>\n  </thead>\n  <tbody>\n    <tr>\n      <th>0</th>\n      <td>M1B</td>\n      <td>43.806686</td>\n      <td>-79.194353</td>\n    </tr>\n    <tr>\n      <th>1</th>\n      <td>M1C</td>\n      <td>43.784535</td>\n      <td>-79.160497</td>\n    </tr>\n    <tr>\n      <th>2</th>\n      <td>M1E</td>\n      <td>43.763573</td>\n      <td>-79.188711</td>\n    </tr>\n    <tr>\n      <th>3</th>\n      <td>M1G</td>\n      <td>43.770992</td>\n      <td>-79.216917</td>\n    </tr>\n    <tr>\n      <th>4</th>\n      <td>M1H</td>\n      <td>43.773136</td>\n      <td>-79.239476</td>\n    </tr>\n  </tbody>\n</table>\n</div>",
                        "text/plain": "  Postal Code   Latitude  Longitude\n0         M1B  43.806686 -79.194353\n1         M1C  43.784535 -79.160497\n2         M1E  43.763573 -79.188711\n3         M1G  43.770992 -79.216917\n4         M1H  43.773136 -79.239476"
                    },
                    "execution_count": 85,
                    "metadata": {},
                    "output_type": "execute_result"
                }
            ],
            "source": "df1 = pd.read_csv('https://cocl.us/Geospatial_data')\ndf1.head()"
        },
        {
            "cell_type": "code",
            "execution_count": 86,
            "metadata": {},
            "outputs": [
                {
                    "data": {
                        "text/html": "<div>\n<style scoped>\n    .dataframe tbody tr th:only-of-type {\n        vertical-align: middle;\n    }\n\n    .dataframe tbody tr th {\n        vertical-align: top;\n    }\n\n    .dataframe thead th {\n        text-align: right;\n    }\n</style>\n<table border=\"1\" class=\"dataframe\">\n  <thead>\n    <tr style=\"text-align: right;\">\n      <th></th>\n      <th>Postal Code</th>\n      <th>Borough</th>\n      <th>Neighbourhood</th>\n      <th>Latitude</th>\n      <th>Longitude</th>\n    </tr>\n  </thead>\n  <tbody>\n    <tr>\n      <th>0</th>\n      <td>M3A</td>\n      <td>North York</td>\n      <td>Parkwoods</td>\n      <td>43.753259</td>\n      <td>-79.329656</td>\n    </tr>\n    <tr>\n      <th>1</th>\n      <td>M4A</td>\n      <td>North York</td>\n      <td>Victoria Village</td>\n      <td>43.725882</td>\n      <td>-79.315572</td>\n    </tr>\n    <tr>\n      <th>2</th>\n      <td>M5A</td>\n      <td>Downtown Toronto</td>\n      <td>Harbourfront</td>\n      <td>43.654260</td>\n      <td>-79.360636</td>\n    </tr>\n    <tr>\n      <th>3</th>\n      <td>M6A</td>\n      <td>North York</td>\n      <td>Lawrence Heights</td>\n      <td>43.718518</td>\n      <td>-79.464763</td>\n    </tr>\n    <tr>\n      <th>4</th>\n      <td>M6A</td>\n      <td>North York</td>\n      <td>Lawrence Manor</td>\n      <td>43.718518</td>\n      <td>-79.464763</td>\n    </tr>\n  </tbody>\n</table>\n</div>",
                        "text/plain": "  Postal Code           Borough     Neighbourhood   Latitude  Longitude\n0         M3A        North York         Parkwoods  43.753259 -79.329656\n1         M4A        North York  Victoria Village  43.725882 -79.315572\n2         M5A  Downtown Toronto      Harbourfront  43.654260 -79.360636\n3         M6A        North York  Lawrence Heights  43.718518 -79.464763\n4         M6A        North York    Lawrence Manor  43.718518 -79.464763"
                    },
                    "execution_count": 86,
                    "metadata": {},
                    "output_type": "execute_result"
                }
            ],
            "source": "neighbourhoods = pd.merge(df2, df1, on='Postal Code')\nneighbourhoods.head()"
        },
        {
            "cell_type": "code",
            "execution_count": 87,
            "metadata": {},
            "outputs": [
                {
                    "data": {
                        "text/html": "<div>\n<style scoped>\n    .dataframe tbody tr th:only-of-type {\n        vertical-align: middle;\n    }\n\n    .dataframe tbody tr th {\n        vertical-align: top;\n    }\n\n    .dataframe thead th {\n        text-align: right;\n    }\n</style>\n<table border=\"1\" class=\"dataframe\">\n  <thead>\n    <tr style=\"text-align: right;\">\n      <th></th>\n      <th>Postal Code</th>\n      <th>Borough</th>\n      <th>Neighbourhood</th>\n      <th>Latitude</th>\n      <th>Longitude</th>\n      <th>Income</th>\n    </tr>\n  </thead>\n  <tbody>\n    <tr>\n      <th>0</th>\n      <td>M4A</td>\n      <td>North York</td>\n      <td>Victoria Village</td>\n      <td>43.725882</td>\n      <td>-79.315572</td>\n      <td>51867</td>\n    </tr>\n    <tr>\n      <th>1</th>\n      <td>M1B</td>\n      <td>Scarborough</td>\n      <td>Rouge</td>\n      <td>43.806686</td>\n      <td>-79.194353</td>\n      <td>101482</td>\n    </tr>\n    <tr>\n      <th>2</th>\n      <td>M3C</td>\n      <td>North York</td>\n      <td>Flemingdon Park</td>\n      <td>43.725900</td>\n      <td>-79.340923</td>\n      <td>48917</td>\n    </tr>\n    <tr>\n      <th>3</th>\n      <td>M6C</td>\n      <td>York</td>\n      <td>Humewood-Cedarvale</td>\n      <td>43.693781</td>\n      <td>-79.428191</td>\n      <td>61110</td>\n    </tr>\n    <tr>\n      <th>4</th>\n      <td>M1E</td>\n      <td>Scarborough</td>\n      <td>Guildwood</td>\n      <td>43.763573</td>\n      <td>-79.188711</td>\n      <td>87538</td>\n    </tr>\n  </tbody>\n</table>\n</div>",
                        "text/plain": "  Postal Code      Borough       Neighbourhood   Latitude  Longitude  Income\n0         M4A   North York    Victoria Village  43.725882 -79.315572   51867\n1         M1B  Scarborough               Rouge  43.806686 -79.194353  101482\n2         M3C   North York     Flemingdon Park  43.725900 -79.340923   48917\n3         M6C         York  Humewood-Cedarvale  43.693781 -79.428191   61110\n4         M1E  Scarborough           Guildwood  43.763573 -79.188711   87538"
                    },
                    "execution_count": 87,
                    "metadata": {},
                    "output_type": "execute_result"
                }
            ],
            "source": "nhoods = pd.merge(neighbourhoods, df, on='Neighbourhood')\nnhoods.head()"
        },
        {
            "cell_type": "code",
            "execution_count": 88,
            "metadata": {},
            "outputs": [
                {
                    "data": {
                        "text/html": "<div>\n<style scoped>\n    .dataframe tbody tr th:only-of-type {\n        vertical-align: middle;\n    }\n\n    .dataframe tbody tr th {\n        vertical-align: top;\n    }\n\n    .dataframe thead th {\n        text-align: right;\n    }\n</style>\n<table border=\"1\" class=\"dataframe\">\n  <thead>\n    <tr style=\"text-align: right;\">\n      <th></th>\n      <th>Neighbourhood</th>\n      <th>Latitude</th>\n      <th>Longitude</th>\n      <th>Income</th>\n    </tr>\n  </thead>\n  <tbody>\n    <tr>\n      <th>0</th>\n      <td>Victoria Village</td>\n      <td>43.725882</td>\n      <td>-79.315572</td>\n      <td>51867</td>\n    </tr>\n    <tr>\n      <th>1</th>\n      <td>Rouge</td>\n      <td>43.806686</td>\n      <td>-79.194353</td>\n      <td>101482</td>\n    </tr>\n    <tr>\n      <th>2</th>\n      <td>Flemingdon Park</td>\n      <td>43.725900</td>\n      <td>-79.340923</td>\n      <td>48917</td>\n    </tr>\n    <tr>\n      <th>3</th>\n      <td>Humewood-Cedarvale</td>\n      <td>43.693781</td>\n      <td>-79.428191</td>\n      <td>61110</td>\n    </tr>\n    <tr>\n      <th>4</th>\n      <td>Guildwood</td>\n      <td>43.763573</td>\n      <td>-79.188711</td>\n      <td>87538</td>\n    </tr>\n  </tbody>\n</table>\n</div>",
                        "text/plain": "        Neighbourhood   Latitude  Longitude  Income\n0    Victoria Village  43.725882 -79.315572   51867\n1               Rouge  43.806686 -79.194353  101482\n2     Flemingdon Park  43.725900 -79.340923   48917\n3  Humewood-Cedarvale  43.693781 -79.428191   61110\n4           Guildwood  43.763573 -79.188711   87538"
                    },
                    "execution_count": 88,
                    "metadata": {},
                    "output_type": "execute_result"
                }
            ],
            "source": "nhoods.drop(['Postal Code', 'Borough'], axis=1, inplace = True)\nnhoods.head()"
        },
        {
            "cell_type": "markdown",
            "metadata": {},
            "source": "Once I had all the information I needed for each Neighbourhood, I could sort in order from **Highest Income to Lowest**, and pick the top 5 most affluent Neighbourhoods.  These were the ones I would then investigate further for suitability."
        },
        {
            "cell_type": "code",
            "execution_count": 89,
            "metadata": {},
            "outputs": [
                {
                    "data": {
                        "text/html": "<div>\n<style scoped>\n    .dataframe tbody tr th:only-of-type {\n        vertical-align: middle;\n    }\n\n    .dataframe tbody tr th {\n        vertical-align: top;\n    }\n\n    .dataframe thead th {\n        text-align: right;\n    }\n</style>\n<table border=\"1\" class=\"dataframe\">\n  <thead>\n    <tr style=\"text-align: right;\">\n      <th></th>\n      <th>Neighbourhood</th>\n      <th>Latitude</th>\n      <th>Longitude</th>\n      <th>Income</th>\n    </tr>\n  </thead>\n  <tbody>\n    <tr>\n      <th>27</th>\n      <td>Rosedale</td>\n      <td>43.679563</td>\n      <td>-79.377529</td>\n      <td>114625</td>\n    </tr>\n    <tr>\n      <th>1</th>\n      <td>Rouge</td>\n      <td>43.806686</td>\n      <td>-79.194353</td>\n      <td>101482</td>\n    </tr>\n    <tr>\n      <th>7</th>\n      <td>The Beaches</td>\n      <td>43.676357</td>\n      <td>-79.293031</td>\n      <td>100365</td>\n    </tr>\n    <tr>\n      <th>25</th>\n      <td>Moore Park</td>\n      <td>43.689574</td>\n      <td>-79.383160</td>\n      <td>97762</td>\n    </tr>\n    <tr>\n      <th>4</th>\n      <td>Guildwood</td>\n      <td>43.763573</td>\n      <td>-79.188711</td>\n      <td>87538</td>\n    </tr>\n    <tr>\n      <th>28</th>\n      <td>Alderwood</td>\n      <td>43.602414</td>\n      <td>-79.543484</td>\n      <td>83249</td>\n    </tr>\n    <tr>\n      <th>16</th>\n      <td>Riverdale</td>\n      <td>43.679557</td>\n      <td>-79.352188</td>\n      <td>77819</td>\n    </tr>\n    <tr>\n      <th>19</th>\n      <td>Cliffcrest</td>\n      <td>43.716316</td>\n      <td>-79.239476</td>\n      <td>75291</td>\n    </tr>\n    <tr>\n      <th>23</th>\n      <td>Forest Hill North</td>\n      <td>43.696948</td>\n      <td>-79.411307</td>\n      <td>70920</td>\n    </tr>\n    <tr>\n      <th>9</th>\n      <td>Bathurst Manor</td>\n      <td>43.754328</td>\n      <td>-79.442259</td>\n      <td>69634</td>\n    </tr>\n  </tbody>\n</table>\n</div>",
                        "text/plain": "        Neighbourhood   Latitude  Longitude  Income\n27           Rosedale  43.679563 -79.377529  114625\n1               Rouge  43.806686 -79.194353  101482\n7         The Beaches  43.676357 -79.293031  100365\n25         Moore Park  43.689574 -79.383160   97762\n4           Guildwood  43.763573 -79.188711   87538\n28          Alderwood  43.602414 -79.543484   83249\n16          Riverdale  43.679557 -79.352188   77819\n19         Cliffcrest  43.716316 -79.239476   75291\n23  Forest Hill North  43.696948 -79.411307   70920\n9      Bathurst Manor  43.754328 -79.442259   69634"
                    },
                    "execution_count": 89,
                    "metadata": {},
                    "output_type": "execute_result"
                }
            ],
            "source": "nhoods.sort_values(by=['Income'], ascending = False, inplace=True)\nnhoods.head(10)"
        },
        {
            "cell_type": "code",
            "execution_count": 90,
            "metadata": {},
            "outputs": [],
            "source": "nhoods = nhoods.reset_index(drop=True)"
        },
        {
            "cell_type": "code",
            "execution_count": 91,
            "metadata": {},
            "outputs": [
                {
                    "data": {
                        "text/html": "<div>\n<style scoped>\n    .dataframe tbody tr th:only-of-type {\n        vertical-align: middle;\n    }\n\n    .dataframe tbody tr th {\n        vertical-align: top;\n    }\n\n    .dataframe thead th {\n        text-align: right;\n    }\n</style>\n<table border=\"1\" class=\"dataframe\">\n  <thead>\n    <tr style=\"text-align: right;\">\n      <th></th>\n      <th>Neighbourhood</th>\n      <th>Latitude</th>\n      <th>Longitude</th>\n      <th>Income</th>\n    </tr>\n  </thead>\n  <tbody>\n    <tr>\n      <th>0</th>\n      <td>Rosedale</td>\n      <td>43.679563</td>\n      <td>-79.377529</td>\n      <td>114625</td>\n    </tr>\n    <tr>\n      <th>1</th>\n      <td>Rouge</td>\n      <td>43.806686</td>\n      <td>-79.194353</td>\n      <td>101482</td>\n    </tr>\n    <tr>\n      <th>2</th>\n      <td>The Beaches</td>\n      <td>43.676357</td>\n      <td>-79.293031</td>\n      <td>100365</td>\n    </tr>\n    <tr>\n      <th>3</th>\n      <td>Moore Park</td>\n      <td>43.689574</td>\n      <td>-79.383160</td>\n      <td>97762</td>\n    </tr>\n    <tr>\n      <th>4</th>\n      <td>Guildwood</td>\n      <td>43.763573</td>\n      <td>-79.188711</td>\n      <td>87538</td>\n    </tr>\n  </tbody>\n</table>\n</div>",
                        "text/plain": "  Neighbourhood   Latitude  Longitude  Income\n0      Rosedale  43.679563 -79.377529  114625\n1         Rouge  43.806686 -79.194353  101482\n2   The Beaches  43.676357 -79.293031  100365\n3    Moore Park  43.689574 -79.383160   97762\n4     Guildwood  43.763573 -79.188711   87538"
                    },
                    "execution_count": 91,
                    "metadata": {},
                    "output_type": "execute_result"
                }
            ],
            "source": "top_five = nhoods[:5]\ntop_five"
        },
        {
            "cell_type": "markdown",
            "metadata": {},
            "source": "Next, I created a map of Toronto, using Folium, with markers for the locations of the top 5 Neighbourhoods"
        },
        {
            "cell_type": "code",
            "execution_count": 92,
            "metadata": {},
            "outputs": [
                {
                    "name": "stdout",
                    "output_type": "stream",
                    "text": "The geograpical coordinate of Toronto are 43.653963, -79.387207.\n"
                }
            ],
            "source": "address = 'Toronto, CA'\n\ngeolocator = Nominatim(user_agent=\"toronto_explorer\")\nlocation = geolocator.geocode(address)\nlatitude = location.latitude\nlongitude = location.longitude\nprint('The geograpical coordinate of Toronto are {}, {}.'.format(latitude, longitude))"
        },
        {
            "cell_type": "code",
            "execution_count": 93,
            "metadata": {},
            "outputs": [
                {
                    "data": {
                        "text/html": "<div style=\"width:100%;\"><div style=\"position:relative;width:100%;height:0;padding-bottom:60%;\"><iframe src=\"about:blank\" style=\"position:absolute;width:100%;height:100%;left:0;top:0;border:none !important;\" data-html=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 onload=\"this.contentDocument.open();this.contentDocument.write(atob(this.getAttribute('data-html')));this.contentDocument.close();\" allowfullscreen webkitallowfullscreen mozallowfullscreen></iframe></div></div>",
                        "text/plain": "<folium.folium.Map at 0x7f3b691f37b8>"
                    },
                    "execution_count": 93,
                    "metadata": {},
                    "output_type": "execute_result"
                }
            ],
            "source": "# create map of Toronto using latitude and longitude values\nmap_toronto = folium.Map(location=[latitude, longitude], zoom_start=10)\n\n# add markers to map\nfor lat, lng, neighbourhood in zip(top_five['Latitude'], top_five['Longitude'], top_five['Neighbourhood']):\n    label = '{}, {}'.format(neighbourhood, 'Toronto')\n    label = folium.Popup(label, parse_html=True)\n    folium.CircleMarker(\n        [lat, lng],\n        radius=5,\n        popup=label,\n        color='blue',\n        fill=True,\n        fill_color='#3186cc',\n        fill_opacity=0.7,\n        parse_html=False).add_to(map_toronto)  \n    \nmap_toronto"
        },
        {
            "cell_type": "markdown",
            "metadata": {},
            "source": "Then, it was time to use Foursquare to find out whether any of the 5 Neighbourhoods already had a **CrossFit Box**."
        },
        {
            "cell_type": "code",
            "execution_count": 94,
            "metadata": {},
            "outputs": [],
            "source": "# The code was removed by Watson Studio for sharing."
        },
        {
            "cell_type": "code",
            "execution_count": 95,
            "metadata": {},
            "outputs": [
                {
                    "name": "stdout",
                    "output_type": "stream",
                    "text": "The geograpical coordinate of Rosedale are 43.6783556, -79.3807457.\n"
                }
            ],
            "source": "address1 = 'Rosedale, Toronto'\n\ngeolocator = Nominatim(user_agent=\"foursquare_agent\")\nlocation = geolocator.geocode(address1)\nlatitude = location.latitude\nlongitude = location.longitude\nprint('The geograpical coordinate of Rosedale are {}, {}.'.format(latitude, longitude))"
        },
        {
            "cell_type": "code",
            "execution_count": 96,
            "metadata": {},
            "outputs": [],
            "source": "search_query = 'CrossFit'\nradius = 500"
        },
        {
            "cell_type": "code",
            "execution_count": 97,
            "metadata": {},
            "outputs": [
                {
                    "data": {
                        "text/plain": "'https://api.foursquare.com/v2/venues/search?client_id=QELSOPIU4YTD3H0NS03HBFGWEHUEREWU51ACI10SV2BCGFIA&client_secret=RP02DMBFW3WDUSAAYHOSVZSKEYFHUHWEK1JJWZ5FPS0RQQB4&ll=43.6783556,-79.3807457&v=20180605&query=CrossFit&radius=500'"
                    },
                    "execution_count": 97,
                    "metadata": {},
                    "output_type": "execute_result"
                }
            ],
            "source": "url2 = 'https://api.foursquare.com/v2/venues/search?client_id={}&client_secret={}&ll={},{}&v={}&query={}&radius={}'.format(CLIENT_ID, CLIENT_SECRET, latitude, longitude, VERSION, search_query, radius)\nurl2"
        },
        {
            "cell_type": "code",
            "execution_count": 98,
            "metadata": {},
            "outputs": [
                {
                    "data": {
                        "text/plain": "{'meta': {'code': 200, 'requestId': '5e5129b7216785001c4c7cec'},\n 'response': {'venues': [{'id': '4b7f01d9f964a520e00f30e3',\n    'name': 'uptown fitness',\n    'location': {'lat': 43.672672,\n     'lng': -79.379627,\n     'labeledLatLngs': [{'label': 'display',\n       'lat': 43.672672,\n       'lng': -79.379627}],\n     'distance': 639,\n     'cc': 'CA',\n     'country': 'Canada',\n     'formattedAddress': ['Canada']},\n    'categories': [],\n    'referralId': 'v-1582377412',\n    'hasPerk': False},\n   {'id': '4c5854ecb13695218ed4735a',\n    'name': 'Booty Camp Fitness',\n    'location': {'address': 'David Balfour Park',\n     'lat': 43.68341,\n     'lng': -79.3829,\n     'labeledLatLngs': [{'label': 'display',\n       'lat': 43.68341,\n       'lng': -79.3829}],\n     'distance': 588,\n     'cc': 'CA',\n     'city': 'Toronto',\n     'state': 'ON',\n     'country': 'Canada',\n     'formattedAddress': ['David Balfour Park', 'Toronto ON', 'Canada']},\n    'categories': [{'id': '4bf58dd8d48988d175941735',\n      'name': 'Gym / Fitness Center',\n      'pluralName': 'Gyms or Fitness Centers',\n      'shortName': 'Gym / Fitness',\n      'icon': {'prefix': 'https://ss3.4sqi.net/img/categories_v2/building/gym_',\n       'suffix': '.png'},\n      'primary': True}],\n    'referralId': 'v-1582377412',\n    'hasPerk': False}]}}"
                    },
                    "execution_count": 98,
                    "metadata": {},
                    "output_type": "execute_result"
                }
            ],
            "source": "results = requests.get(url2).json()\nresults"
        },
        {
            "cell_type": "code",
            "execution_count": 99,
            "metadata": {},
            "outputs": [
                {
                    "name": "stdout",
                    "output_type": "stream",
                    "text": "The geograpical coordinate of Rouge are 43.8049304, -79.1658374.\n"
                }
            ],
            "source": "address2 = 'Rouge, Toronto'\n\ngeolocator = Nominatim(user_agent=\"foursquare_agent\")\nlocation1 = geolocator.geocode(address2)\nlatitude1 = location1.latitude\nlongitude1 = location1.longitude\nprint('The geograpical coordinate of Rouge are {}, {}.'.format(latitude1, longitude1))"
        },
        {
            "cell_type": "code",
            "execution_count": 100,
            "metadata": {},
            "outputs": [
                {
                    "data": {
                        "text/plain": "'https://api.foursquare.com/v2/venues/search?client_id=QELSOPIU4YTD3H0NS03HBFGWEHUEREWU51ACI10SV2BCGFIA&client_secret=RP02DMBFW3WDUSAAYHOSVZSKEYFHUHWEK1JJWZ5FPS0RQQB4&ll=43.8049304,-79.1658374&v=20180605&query=CrossFit&radius=500'"
                    },
                    "execution_count": 100,
                    "metadata": {},
                    "output_type": "execute_result"
                }
            ],
            "source": "url3 = 'https://api.foursquare.com/v2/venues/search?client_id={}&client_secret={}&ll={},{}&v={}&query={}&radius={}'.format(CLIENT_ID, CLIENT_SECRET, latitude1, longitude1, VERSION, search_query, radius)\nurl3"
        },
        {
            "cell_type": "code",
            "execution_count": 101,
            "metadata": {},
            "outputs": [
                {
                    "data": {
                        "text/plain": "{'meta': {'code': 200, 'requestId': '5e5129fbb57e880021413377'},\n 'response': {'venues': []}}"
                    },
                    "execution_count": 101,
                    "metadata": {},
                    "output_type": "execute_result"
                }
            ],
            "source": "results1 = requests.get(url3).json()\nresults1"
        },
        {
            "cell_type": "code",
            "execution_count": 102,
            "metadata": {},
            "outputs": [
                {
                    "name": "stdout",
                    "output_type": "stream",
                    "text": "The geograpical coordinate of The Beaches are 43.6710244, -79.296712.\n"
                }
            ],
            "source": "address3 = 'The Beaches, Toronto'\n\ngeolocator = Nominatim(user_agent=\"foursquare_agent\")\nlocation2 = geolocator.geocode(address3)\nlatitude2 = location2.latitude\nlongitude2 = location2.longitude\nprint('The geograpical coordinate of The Beaches are {}, {}.'.format(latitude2, longitude2))"
        },
        {
            "cell_type": "code",
            "execution_count": 103,
            "metadata": {},
            "outputs": [
                {
                    "data": {
                        "text/plain": "'https://api.foursquare.com/v2/venues/search?client_id=QELSOPIU4YTD3H0NS03HBFGWEHUEREWU51ACI10SV2BCGFIA&client_secret=RP02DMBFW3WDUSAAYHOSVZSKEYFHUHWEK1JJWZ5FPS0RQQB4&ll=43.6710244,-79.296712&v=20180605&query=CrossFit&radius=500'"
                    },
                    "execution_count": 103,
                    "metadata": {},
                    "output_type": "execute_result"
                }
            ],
            "source": "url4 = 'https://api.foursquare.com/v2/venues/search?client_id={}&client_secret={}&ll={},{}&v={}&query={}&radius={}'.format(CLIENT_ID, CLIENT_SECRET, latitude2, longitude2, VERSION, search_query, radius)\nurl4"
        },
        {
            "cell_type": "code",
            "execution_count": 104,
            "metadata": {},
            "outputs": [
                {
                    "data": {
                        "text/plain": "{'meta': {'code': 200, 'requestId': '5e5128f4963d29001bef6a01'},\n 'response': {'venues': [{'id': '516ddce8e4b03e302bf5d68c',\n    'name': 'Prana Fitness',\n    'location': {'lat': 43.67107,\n     'lng': -79.295043,\n     'labeledLatLngs': [{'label': 'display',\n       'lat': 43.67107,\n       'lng': -79.295043}],\n     'distance': 134,\n     'cc': 'CA',\n     'country': 'Canada',\n     'formattedAddress': ['Canada']},\n    'categories': [{'id': '4bf58dd8d48988d102941735',\n      'name': 'Yoga Studio',\n      'pluralName': 'Yoga Studios',\n      'shortName': 'Yoga Studio',\n      'icon': {'prefix': 'https://ss3.4sqi.net/img/categories_v2/shops/gym_yogastudio_',\n       'suffix': '.png'},\n      'primary': True}],\n    'referralId': 'v-1582377423',\n    'hasPerk': False},\n   {'id': '4c0d0c6a98102d7f388be106',\n    'name': 'Kew Beach Off Leash Dog Park',\n    'location': {'lat': 43.6658149758116,\n     'lng': -79.29698824882507,\n     'labeledLatLngs': [{'label': 'display',\n       'lat': 43.6658149758116,\n       'lng': -79.29698824882507}],\n     'distance': 580,\n     'cc': 'CA',\n     'city': 'Toronto',\n     'state': 'ON',\n     'country': 'Canada',\n     'formattedAddress': ['Toronto ON', 'Canada']},\n    'categories': [{'id': '4bf58dd8d48988d1e5941735',\n      'name': 'Dog Run',\n      'pluralName': 'Dog Runs',\n      'shortName': 'Dog Run',\n      'icon': {'prefix': 'https://ss3.4sqi.net/img/categories_v2/parks_outdoors/dogrun_',\n       'suffix': '.png'},\n      'primary': True}],\n    'referralId': 'v-1582377423',\n    'hasPerk': False},\n   {'id': '4f581cb2e4b0fbb1bb2f3db4',\n    'name': 'Fitness Works For Women',\n    'location': {'crossStreet': 'Queen And Lee Ave',\n     'lat': 43.670845592323815,\n     'lng': -79.2946190314865,\n     'labeledLatLngs': [{'label': 'display',\n       'lat': 43.670845592323815,\n       'lng': -79.2946190314865}],\n     'distance': 169,\n     'cc': 'CA',\n     'city': 'Toronto',\n     'state': 'ON',\n     'country': 'Canada',\n     'formattedAddress': ['Queen And Lee Ave', 'Toronto ON', 'Canada']},\n    'categories': [{'id': '4bf58dd8d48988d176941735',\n      'name': 'Gym',\n      'pluralName': 'Gyms',\n      'shortName': 'Gym',\n      'icon': {'prefix': 'https://ss3.4sqi.net/img/categories_v2/building/gym_',\n       'suffix': '.png'},\n      'primary': True}],\n    'referralId': 'v-1582377423',\n    'hasPerk': False}]}}"
                    },
                    "execution_count": 104,
                    "metadata": {},
                    "output_type": "execute_result"
                }
            ],
            "source": "results2 = requests.get(url4).json()\nresults2"
        },
        {
            "cell_type": "code",
            "execution_count": 105,
            "metadata": {},
            "outputs": [
                {
                    "name": "stdout",
                    "output_type": "stream",
                    "text": "The geograpical coordinate of Moore Park are 43.6903876, -79.3832965.\n"
                }
            ],
            "source": "address4 = 'Moore Park, Toronto'\n\ngeolocator = Nominatim(user_agent=\"foursquare_agent\")\nlocation3 = geolocator.geocode(address4)\nlatitude3 = location3.latitude\nlongitude3 = location3.longitude\nprint('The geograpical coordinate of Moore Park are {}, {}.'.format(latitude3, longitude3))"
        },
        {
            "cell_type": "code",
            "execution_count": 106,
            "metadata": {},
            "outputs": [
                {
                    "data": {
                        "text/plain": "'https://api.foursquare.com/v2/venues/search?client_id=QELSOPIU4YTD3H0NS03HBFGWEHUEREWU51ACI10SV2BCGFIA&client_secret=RP02DMBFW3WDUSAAYHOSVZSKEYFHUHWEK1JJWZ5FPS0RQQB4&ll=43.6903876,-79.3832965&v=20180605&query=CrossFit&radius=500'"
                    },
                    "execution_count": 106,
                    "metadata": {},
                    "output_type": "execute_result"
                }
            ],
            "source": "url5 = 'https://api.foursquare.com/v2/venues/search?client_id={}&client_secret={}&ll={},{}&v={}&query={}&radius={}'.format(CLIENT_ID, CLIENT_SECRET, latitude3, longitude3, VERSION, search_query, radius)\nurl5"
        },
        {
            "cell_type": "code",
            "execution_count": 107,
            "metadata": {},
            "outputs": [
                {
                    "data": {
                        "text/plain": "{'meta': {'code': 200, 'requestId': '5e5129c3c94979001bbebc1f'},\n 'response': {'venues': [{'id': '4bb0200cf964a52090383ce3',\n    'name': 'Pure Fitness',\n    'location': {'address': '939 Eglinton Ave E',\n     'crossStreet': 'Brentcliffe',\n     'lat': 43.693006599930136,\n     'lng': -79.38778127126965,\n     'labeledLatLngs': [{'label': 'display',\n       'lat': 43.693006599930136,\n       'lng': -79.38778127126965}],\n     'distance': 464,\n     'postalCode': 'M4G 4E8',\n     'cc': 'CA',\n     'city': 'Toronto',\n     'state': 'ON',\n     'country': 'Canada',\n     'formattedAddress': ['939 Eglinton Ave E (Brentcliffe)',\n      'Toronto ON M4G 4E8',\n      'Canada']},\n    'categories': [{'id': '4bf58dd8d48988d176941735',\n      'name': 'Gym',\n      'pluralName': 'Gyms',\n      'shortName': 'Gym',\n      'icon': {'prefix': 'https://ss3.4sqi.net/img/categories_v2/building/gym_',\n       'suffix': '.png'},\n      'primary': True}],\n    'referralId': 'v-1582377427',\n    'hasPerk': False}]}}"
                    },
                    "execution_count": 107,
                    "metadata": {},
                    "output_type": "execute_result"
                }
            ],
            "source": "results3 = requests.get(url5).json()\nresults3"
        },
        {
            "cell_type": "code",
            "execution_count": 108,
            "metadata": {},
            "outputs": [
                {
                    "name": "stdout",
                    "output_type": "stream",
                    "text": "The geograpical coordinate of Guildwood are 43.7552251, -79.1982293.\n"
                }
            ],
            "source": "address5 = 'Guildwood, Toronto'\n\ngeolocator = Nominatim(user_agent=\"foursquare_agent\")\nlocation4 = geolocator.geocode(address5)\nlatitude4 = location4.latitude\nlongitude4 = location4.longitude\nprint('The geograpical coordinate of Guildwood are {}, {}.'.format(latitude4, longitude4))"
        },
        {
            "cell_type": "code",
            "execution_count": 109,
            "metadata": {},
            "outputs": [
                {
                    "data": {
                        "text/plain": "'https://api.foursquare.com/v2/venues/search?client_id=QELSOPIU4YTD3H0NS03HBFGWEHUEREWU51ACI10SV2BCGFIA&client_secret=RP02DMBFW3WDUSAAYHOSVZSKEYFHUHWEK1JJWZ5FPS0RQQB4&ll=43.7552251,-79.1982293&v=20180605&query=CrossFit&radius=500'"
                    },
                    "execution_count": 109,
                    "metadata": {},
                    "output_type": "execute_result"
                }
            ],
            "source": "url6 = 'https://api.foursquare.com/v2/venues/search?client_id={}&client_secret={}&ll={},{}&v={}&query={}&radius={}'.format(CLIENT_ID, CLIENT_SECRET, latitude4, longitude4, VERSION, search_query, radius)\nurl6"
        },
        {
            "cell_type": "code",
            "execution_count": 110,
            "metadata": {},
            "outputs": [
                {
                    "data": {
                        "text/plain": "{'meta': {'code': 200, 'requestId': '5e5129a2ad1ab4001bbb2a9f'},\n 'response': {'venues': []}}"
                    },
                    "execution_count": 110,
                    "metadata": {},
                    "output_type": "execute_result"
                }
            ],
            "source": "results4 = requests.get(url6).json()\nresults4"
        },
        {
            "cell_type": "markdown",
            "metadata": {},
            "source": "From running the queries above, we can see that, out of the 5 Neighbourhoods, only Rouge (*address2*), and Guildwood (*address5*) don't already have a **CrossFit Box**, so these would be our two shortlisted locations to recommend.  I then tried running a query to see whether there were any other venues in these two areas which showed an interest in **Sports**, with the following results:"
        },
        {
            "cell_type": "code",
            "execution_count": 111,
            "metadata": {},
            "outputs": [],
            "source": "search_query1 = 'sport'\nradius = 500"
        },
        {
            "cell_type": "code",
            "execution_count": 112,
            "metadata": {},
            "outputs": [
                {
                    "data": {
                        "text/plain": "'https://api.foursquare.com/v2/venues/search?client_id=QELSOPIU4YTD3H0NS03HBFGWEHUEREWU51ACI10SV2BCGFIA&client_secret=RP02DMBFW3WDUSAAYHOSVZSKEYFHUHWEK1JJWZ5FPS0RQQB4&ll=43.8049304,-79.1658374&v=20180605&query=sport&radius=500'"
                    },
                    "execution_count": 112,
                    "metadata": {},
                    "output_type": "execute_result"
                }
            ],
            "source": "url7 = 'https://api.foursquare.com/v2/venues/search?client_id={}&client_secret={}&ll={},{}&v={}&query={}&radius={}'.format(CLIENT_ID, CLIENT_SECRET, latitude1, longitude1, VERSION, search_query1, radius)\nurl7"
        },
        {
            "cell_type": "code",
            "execution_count": 113,
            "metadata": {},
            "outputs": [
                {
                    "data": {
                        "text/plain": "{'meta': {'code': 200, 'requestId': '5e512a2d1a4b0a001b25510a'},\n 'response': {'venues': []}}"
                    },
                    "execution_count": 113,
                    "metadata": {},
                    "output_type": "execute_result"
                }
            ],
            "source": "results5 = requests.get(url7).json()\nresults5"
        },
        {
            "cell_type": "code",
            "execution_count": 114,
            "metadata": {},
            "outputs": [
                {
                    "data": {
                        "text/plain": "'https://api.foursquare.com/v2/venues/search?client_id=QELSOPIU4YTD3H0NS03HBFGWEHUEREWU51ACI10SV2BCGFIA&client_secret=RP02DMBFW3WDUSAAYHOSVZSKEYFHUHWEK1JJWZ5FPS0RQQB4&ll=43.7552251,-79.1982293&v=20180605&query=sport&radius=500'"
                    },
                    "execution_count": 114,
                    "metadata": {},
                    "output_type": "execute_result"
                }
            ],
            "source": "url8 = 'https://api.foursquare.com/v2/venues/search?client_id={}&client_secret={}&ll={},{}&v={}&query={}&radius={}'.format(CLIENT_ID, CLIENT_SECRET, latitude4, longitude4, VERSION, search_query1, radius)\nurl8"
        },
        {
            "cell_type": "code",
            "execution_count": 115,
            "metadata": {},
            "outputs": [
                {
                    "data": {
                        "text/plain": "{'meta': {'code': 200, 'requestId': '5e5129b17828ae001b629440'},\n 'response': {'venues': [{'id': '4b721eecf964a520b16f2de3',\n    'name': \"Sunny's Sport Bar and Grill\",\n    'location': {'address': '4190 Kingston Rd.',\n     'lat': 43.75917706072689,\n     'lng': -79.19765072624969,\n     'labeledLatLngs': [{'label': 'display',\n       'lat': 43.75917706072689,\n       'lng': -79.19765072624969}],\n     'distance': 442,\n     'postalCode': 'M1E 4W1',\n     'cc': 'CA',\n     'city': 'Toronto',\n     'state': 'ON',\n     'country': 'Canada',\n     'formattedAddress': ['4190 Kingston Rd.',\n      'Toronto ON M1E 4W1',\n      'Canada']},\n    'categories': [{'id': '4bf58dd8d48988d11d941735',\n      'name': 'Sports Bar',\n      'pluralName': 'Sports Bars',\n      'shortName': 'Sports Bar',\n      'icon': {'prefix': 'https://ss3.4sqi.net/img/categories_v2/nightlife/sportsbar_',\n       'suffix': '.png'},\n      'primary': True}],\n    'referralId': 'v-1582377436',\n    'hasPerk': False}]}}"
                    },
                    "execution_count": 115,
                    "metadata": {},
                    "output_type": "execute_result"
                }
            ],
            "source": "results6 = requests.get(url8).json()\nresults6"
        },
        {
            "cell_type": "markdown",
            "metadata": {},
            "source": "Only **Guildwood** had any hits on sports-related venues.  So, this is the location which I am going to recommend to my client as a suitable location to open a new **CrossFit Box**."
        },
        {
            "cell_type": "code",
            "execution_count": null,
            "metadata": {},
            "outputs": [],
            "source": ""
        }
    ],
    "metadata": {
        "kernelspec": {
            "display_name": "Python 3.6",
            "language": "python",
            "name": "python3"
        },
        "language_info": {
            "codemirror_mode": {
                "name": "ipython",
                "version": 3
            },
            "file_extension": ".py",
            "mimetype": "text/x-python",
            "name": "python",
            "nbconvert_exporter": "python",
            "pygments_lexer": "ipython3",
            "version": "3.6.9"
        }
    },
    "nbformat": 4,
    "nbformat_minor": 1
}